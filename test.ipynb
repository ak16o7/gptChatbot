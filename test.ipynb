{
 "cells": [
  {
   "cell_type": "code",
   "execution_count": null,
   "metadata": {},
   "outputs": [],
   "source": [
    "!pip install gpt_index"
   ]
  },
  {
   "cell_type": "code",
   "execution_count": null,
   "metadata": {},
   "outputs": [],
   "source": [
    "!pip install langchain"
   ]
  },
  {
   "cell_type": "code",
   "execution_count": 18,
   "metadata": {},
   "outputs": [],
   "source": [
    "from gpt_index import SimpleDirectoryReader, GPTListIndex, GPTSimpleVectorIndex, LLMPredictor, PromptHelper, ServiceContext\n",
    "from langchain import OpenAI\n",
    "import sys\n",
    "import os\n",
    "import signal\n",
    "os.environ[\"OPENAI_API_KEY\"] = \"\" # API key comes here"
   ]
  },
  {
   "cell_type": "code",
   "execution_count": 12,
   "metadata": {},
   "outputs": [],
   "source": [
    "# retrieve data to feed the chatbot.\n",
    "# here: e-book from gutenberg.org https://gutenberg.org/files/70678/70678-0.txt"
   ]
  },
  {
   "cell_type": "code",
   "execution_count": 13,
   "metadata": {},
   "outputs": [],
   "source": [
    "def create_index(path):\n",
    "    max_input = 4096  # max input size\n",
    "    tokens = 256  # max number of tokens to be used\n",
    "    chunk_size = 600  # how much data shall be grabbed at once\n",
    "    max_chunk_overlap = 20\n",
    "\n",
    "    # create prompt\n",
    "    promptHelper = PromptHelper(max_input, tokens, max_chunk_overlap, chunk_size_limit=chunk_size)\n",
    "\n",
    "    # define language model: e.g. LLM Predictor\n",
    "    # choose model: davinci, ada, curie,...\n",
    "    llmPredictor = LLMPredictor(llm=OpenAI(temperature=0, model_name=\"text-davinci-003\", max_tokens=tokens))\n",
    "\n",
    "    # load data\n",
    "    docs = SimpleDirectoryReader(path).load_data()\n",
    "\n",
    "    service_context = ServiceContext.from_defaults(llm_predictor=llmPredictor, prompt_helper=promptHelper)\n",
    "    vectorIndex = GPTSimpleVectorIndex.from_documents(documents=docs, service_context=service_context)\n",
    "\n",
    "    #create a vector index\n",
    "    #vector_index = GPTSimpleVectorIndex(docs=docs, llm_predictor=llm_predictor, prompt_helper=prompt_helper)\n",
    "    #save as json file\n",
    "    vectorIndex.save_to_disk('vector_index.json')\n",
    "    return vectorIndex\n"
   ]
  },
  {
   "cell_type": "code",
   "execution_count": null,
   "metadata": {},
   "outputs": [],
   "source": [
    "vectorIndex = create_index(\"Knowledge\")"
   ]
  },
  {
   "cell_type": "code",
   "execution_count": 15,
   "metadata": {},
   "outputs": [],
   "source": [
    "def answerMe(vectorIndex):\n",
    "    vIndex = GPTSimpleVectorIndex.load_from_disk(vectorIndex)\n",
    "    signal.signal(signal.SIGINT, lambda signal, frame: sys.exit(0))\n",
    "    while True:\n",
    "        try:\n",
    "            prompt = input('Please ask: ')\n",
    "            response = vIndex.query(prompt, response_mode='compact')\n",
    "            print(f'Response: {response} \\n')\n",
    "        except KeyboardInterrupt:\n",
    "            print(\"Program interrupted.\")\n",
    "            break\n"
   ]
  },
  {
   "cell_type": "code",
   "execution_count": null,
   "metadata": {},
   "outputs": [],
   "source": [
    "answerMe(\"vector_index.json\")\n"
   ]
  }
 ],
 "metadata": {
  "kernelspec": {
   "display_name": "Python 3",
   "language": "python",
   "name": "python3"
  },
  "language_info": {
   "codemirror_mode": {
    "name": "ipython",
    "version": 3
   },
   "file_extension": ".py",
   "mimetype": "text/x-python",
   "name": "python",
   "nbconvert_exporter": "python",
   "pygments_lexer": "ipython3",
   "version": "3.11.3"
  },
  "orig_nbformat": 4
 },
 "nbformat": 4,
 "nbformat_minor": 2
}
